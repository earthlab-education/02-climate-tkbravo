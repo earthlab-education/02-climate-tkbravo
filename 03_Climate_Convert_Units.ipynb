{
  "cells": [
    {
      "cell_type": "markdown",
      "id": "197a923c-b548-4e86-b9b9-ce573d2fd6dc",
      "metadata": {},
      "source": [
        "# Climate Coding Challenge\n",
        "\n",
        "Climate change is impacting the way people live around the world\n",
        "\n",
        "# Convert units\n",
        "\n",
        "It’s important to keep track of the units of all your data. You don’t\n",
        "want to be like the [NASA team who crashed a probe into Mars because\n",
        "different teams used different\n",
        "units](https://www.latimes.com/archives/la-xpm-1999-oct-01-mn-17288-story.html))!\n",
        "\n",
        "## STEP 0: Set up\n",
        "\n",
        "To get started on this notebook, you’ll need to restore any variables\n",
        "from previous notebooks to your workspace. To save time and memory, make\n",
        "sure to specify which variables you want to load."
      ]
    },
    {
      "cell_type": "code",
      "execution_count": 1,
      "id": "cbf1ec90",
      "metadata": {},
      "outputs": [],
      "source": [
        "%store -r boulder_climate_df"
      ]
    },
    {
      "cell_type": "markdown",
      "id": "ab67c1ad-90e4-4137-809a-64c253675f8d",
      "metadata": {},
      "source": [
        "## Use labels to keep track of units for you and your collaborators\n",
        "\n",
        "One way to keep track of your data’s units is to include the unit in\n",
        "data **labels**. In the case of a `DataFrame`, that usually means the\n",
        "column names.\n",
        "\n",
        "<link rel=\"stylesheet\" type=\"text/css\" href=\"./assets/styles.css\"><div class=\"callout callout-style-default callout-titled callout-task\"><div class=\"callout-header\"><div class=\"callout-icon-container\"><i class=\"callout-icon\"></i></div><div class=\"callout-title-container flex-fill\">Try It: Add units to your column name</div></div><div class=\"callout-body-container callout-body\"><p>A big part of writing <strong>expressive</strong> code is descriptive\n",
        "labels. Let’s rename the columns of your dataframe to include units.\n",
        "Complete the following steps:</p>\n",
        "<ol type=\"1\">\n",
        "<li>Replace <code>dataframe</code> with the name of\n",
        "<strong>your</strong> <code>DataFrame</code>, and\n",
        "<code>dataframe_units</code> with an expressive new name.</li>\n",
        "<li>Check out the <a\n",
        "href=\"https://www.ncei.noaa.gov/data/global-historical-climatology-network-daily/doc/GHCND_documentation.pdf\">documentation\n",
        "for GCHNd data</a>. We downloaded data with “standard” units; find out\n",
        "what that means for temperature.</li>\n",
        "<li>Replace <code>'temperature-column-name'</code> with the temperature\n",
        "column name in your data, and <code>'temp_unit'</code> with a column\n",
        "name that includes the correct unit. For example, you could make a\n",
        "column called <code>'temperature_k'</code> to note that your\n",
        "temperatures are in degrees Kelvin.</li>\n",
        "</ol></div></div>"
      ]
    },
    {
      "cell_type": "code",
      "execution_count": 2,
      "id": "a217da36",
      "metadata": {
        "template": "student"
      },
      "outputs": [
        {
          "data": {
            "text/html": [
              "<div>\n",
              "<style scoped>\n",
              "    .dataframe tbody tr th:only-of-type {\n",
              "        vertical-align: middle;\n",
              "    }\n",
              "\n",
              "    .dataframe tbody tr th {\n",
              "        vertical-align: top;\n",
              "    }\n",
              "\n",
              "    .dataframe thead th {\n",
              "        text-align: right;\n",
              "    }\n",
              "</style>\n",
              "<table border=\"1\" class=\"dataframe\">\n",
              "  <thead>\n",
              "    <tr style=\"text-align: right;\">\n",
              "      <th></th>\n",
              "      <th>temp_f</th>\n",
              "    </tr>\n",
              "    <tr>\n",
              "      <th>DATE</th>\n",
              "      <th></th>\n",
              "    </tr>\n",
              "  </thead>\n",
              "  <tbody>\n",
              "    <tr>\n",
              "      <th>1893-10-01</th>\n",
              "      <td>NaN</td>\n",
              "    </tr>\n",
              "    <tr>\n",
              "      <th>1893-10-02</th>\n",
              "      <td>NaN</td>\n",
              "    </tr>\n",
              "    <tr>\n",
              "      <th>1893-10-03</th>\n",
              "      <td>NaN</td>\n",
              "    </tr>\n",
              "    <tr>\n",
              "      <th>1893-10-04</th>\n",
              "      <td>NaN</td>\n",
              "    </tr>\n",
              "    <tr>\n",
              "      <th>1893-10-05</th>\n",
              "      <td>NaN</td>\n",
              "    </tr>\n",
              "    <tr>\n",
              "      <th>...</th>\n",
              "      <td>...</td>\n",
              "    </tr>\n",
              "    <tr>\n",
              "      <th>2023-09-26</th>\n",
              "      <td>74.0</td>\n",
              "    </tr>\n",
              "    <tr>\n",
              "      <th>2023-09-27</th>\n",
              "      <td>69.0</td>\n",
              "    </tr>\n",
              "    <tr>\n",
              "      <th>2023-09-28</th>\n",
              "      <td>73.0</td>\n",
              "    </tr>\n",
              "    <tr>\n",
              "      <th>2023-09-29</th>\n",
              "      <td>66.0</td>\n",
              "    </tr>\n",
              "    <tr>\n",
              "      <th>2023-09-30</th>\n",
              "      <td>78.0</td>\n",
              "    </tr>\n",
              "  </tbody>\n",
              "</table>\n",
              "<p>45971 rows × 1 columns</p>\n",
              "</div>"
            ],
            "text/plain": [
              "            temp_f\n",
              "DATE              \n",
              "1893-10-01     NaN\n",
              "1893-10-02     NaN\n",
              "1893-10-03     NaN\n",
              "1893-10-04     NaN\n",
              "1893-10-05     NaN\n",
              "...            ...\n",
              "2023-09-26    74.0\n",
              "2023-09-27    69.0\n",
              "2023-09-28    73.0\n",
              "2023-09-29    66.0\n",
              "2023-09-30    78.0\n",
              "\n",
              "[45971 rows x 1 columns]"
            ]
          },
          "execution_count": 2,
          "metadata": {},
          "output_type": "execute_result"
        }
      ],
      "source": [
        "# Rename the temperature column to reflect the unit of measure\n",
        "boulder_climate_df_units = boulder_climate_df.rename(columns={\n",
        "    'TOBS': 'temp_f',\n",
        "})\n",
        "\n",
        "boulder_climate_df_units"
      ]
    },
    {
      "cell_type": "markdown",
      "id": "ea51f08d-c3e4-4fc3-b154-3274b6fadcb1",
      "metadata": {},
      "source": [
        "## For scientific applications, it is often useful to have values in metric units\n",
        "\n",
        "In this case, we want to convert data from degrees Fahrenheit to degrees\n",
        "Celcius. The equation for converting Fahrenheit temperature to Celcius\n",
        "is:\n",
        "\n",
        "$$T_C = (T_F - 32) * \\frac{5}{9}$$\n",
        "\n",
        "<link rel=\"stylesheet\" type=\"text/css\" href=\"./assets/styles.css\"><div class=\"callout callout-style-default callout-titled callout-task\"><div class=\"callout-header\"><div class=\"callout-icon-container\"><i class=\"callout-icon\"></i></div><div class=\"callout-title-container flex-fill\">Try It: Convert units</div></div><div class=\"callout-body-container callout-body\"><p>The code below attempts to convert the data to Celcius, using Python\n",
        "mathematical <strong>operators</strong>, like <code>+</code>,\n",
        "<code>-</code>, <code>*</code>, and <code>/</code>. Mathematical\n",
        "operators in Python work just like a calculator, and that includes using\n",
        "parentheses to designate the <strong>order of operations</strong>.</p>\n",
        "<p>This code is not well documented and doesn’t follow <a\n",
        "href=\"https://peps.python.org/pep-0008/#other-recommendations\">PEP-8\n",
        "guidelines</a>, which has caused the author to miss an <strong>important\n",
        "error</strong>!</p>\n",
        "<p>Complete the following steps:</p>\n",
        "<ol type=\"1\">\n",
        "<li>Replace <code>dataframe</code> with the name of\n",
        "<strong>your</strong> <code>DataFrame</code>.</li>\n",
        "<li>Replace <code>'old_temperature'</code> with the column name\n",
        "<strong>you</strong> used; Replace <code>'new_temperature'</code> with\n",
        "an <strong>expressive</strong> column name.</li>\n",
        "<li><strong>THERE IS AN ERROR IN THE CONVERSION MATH - Fix\n",
        "it!</strong></li>\n",
        "</ol></div></div>"
      ]
    },
    {
      "cell_type": "code",
      "execution_count": 3,
      "id": "a8241ca6",
      "metadata": {
        "template": "student"
      },
      "outputs": [
        {
          "data": {
            "text/html": [
              "<div>\n",
              "<style scoped>\n",
              "    .dataframe tbody tr th:only-of-type {\n",
              "        vertical-align: middle;\n",
              "    }\n",
              "\n",
              "    .dataframe tbody tr th {\n",
              "        vertical-align: top;\n",
              "    }\n",
              "\n",
              "    .dataframe thead th {\n",
              "        text-align: right;\n",
              "    }\n",
              "</style>\n",
              "<table border=\"1\" class=\"dataframe\">\n",
              "  <thead>\n",
              "    <tr style=\"text-align: right;\">\n",
              "      <th></th>\n",
              "      <th>temp_f</th>\n",
              "      <th>temp_c</th>\n",
              "    </tr>\n",
              "    <tr>\n",
              "      <th>DATE</th>\n",
              "      <th></th>\n",
              "      <th></th>\n",
              "    </tr>\n",
              "  </thead>\n",
              "  <tbody>\n",
              "    <tr>\n",
              "      <th>1893-10-01</th>\n",
              "      <td>NaN</td>\n",
              "      <td>NaN</td>\n",
              "    </tr>\n",
              "    <tr>\n",
              "      <th>1893-10-02</th>\n",
              "      <td>NaN</td>\n",
              "      <td>NaN</td>\n",
              "    </tr>\n",
              "    <tr>\n",
              "      <th>1893-10-03</th>\n",
              "      <td>NaN</td>\n",
              "      <td>NaN</td>\n",
              "    </tr>\n",
              "    <tr>\n",
              "      <th>1893-10-04</th>\n",
              "      <td>NaN</td>\n",
              "      <td>NaN</td>\n",
              "    </tr>\n",
              "    <tr>\n",
              "      <th>1893-10-05</th>\n",
              "      <td>NaN</td>\n",
              "      <td>NaN</td>\n",
              "    </tr>\n",
              "    <tr>\n",
              "      <th>...</th>\n",
              "      <td>...</td>\n",
              "      <td>...</td>\n",
              "    </tr>\n",
              "    <tr>\n",
              "      <th>2023-09-26</th>\n",
              "      <td>74.0</td>\n",
              "      <td>23.333333</td>\n",
              "    </tr>\n",
              "    <tr>\n",
              "      <th>2023-09-27</th>\n",
              "      <td>69.0</td>\n",
              "      <td>20.555556</td>\n",
              "    </tr>\n",
              "    <tr>\n",
              "      <th>2023-09-28</th>\n",
              "      <td>73.0</td>\n",
              "      <td>22.777778</td>\n",
              "    </tr>\n",
              "    <tr>\n",
              "      <th>2023-09-29</th>\n",
              "      <td>66.0</td>\n",
              "      <td>18.888889</td>\n",
              "    </tr>\n",
              "    <tr>\n",
              "      <th>2023-09-30</th>\n",
              "      <td>78.0</td>\n",
              "      <td>25.555556</td>\n",
              "    </tr>\n",
              "  </tbody>\n",
              "</table>\n",
              "<p>45971 rows × 2 columns</p>\n",
              "</div>"
            ],
            "text/plain": [
              "            temp_f     temp_c\n",
              "DATE                         \n",
              "1893-10-01     NaN        NaN\n",
              "1893-10-02     NaN        NaN\n",
              "1893-10-03     NaN        NaN\n",
              "1893-10-04     NaN        NaN\n",
              "1893-10-05     NaN        NaN\n",
              "...            ...        ...\n",
              "2023-09-26    74.0  23.333333\n",
              "2023-09-27    69.0  20.555556\n",
              "2023-09-28    73.0  22.777778\n",
              "2023-09-29    66.0  18.888889\n",
              "2023-09-30    78.0  25.555556\n",
              "\n",
              "[45971 rows x 2 columns]"
            ]
          },
          "execution_count": 3,
          "metadata": {},
          "output_type": "execute_result"
        }
      ],
      "source": [
        "# Add a column converting the temperature data to degrees Celsius\n",
        "boulder_climate_df_units['temp_c'] = (boulder_climate_df_units['temp_f'] - 32) * 5 / 9 \n",
        "boulder_climate_df_units"
      ]
    },
    {
      "cell_type": "markdown",
      "id": "a5e9c038-ed80-487a-8284-8d992d04fded",
      "metadata": {},
      "source": [
        "<link rel=\"stylesheet\" type=\"text/css\" href=\"./assets/styles.css\"><div class=\"callout callout-style-default callout-titled callout-extra\"><div class=\"callout-header\"><div class=\"callout-icon-container\"><i class=\"callout-icon\"></i></div><div class=\"callout-title-container flex-fill\">Looking for an Extra Challenge?</div></div><div class=\"callout-body-container callout-body\"><p>Using the code below as a framework, write and apply a\n",
        "<strong>function</strong> that converts to Celcius. You should also\n",
        "rewrite this function name and parameter names to be more\n",
        "expressive.</p></div></div>"
      ]
    },
    {
      "cell_type": "code",
      "execution_count": 4,
      "id": "e0011478",
      "metadata": {
        "template": "student"
      },
      "outputs": [],
      "source": [
        "# Convert units with a function\n",
        "# def convert_f_to_c(temperature_f):\n",
        "#    \"\"\"Convert Fahrenheit temperature to Celcius\"\"\"\n",
        "#    return (temperature_f - 32) * 5.0/9.0\n",
        "\n",
        "# dataframe['TEMP_C'] = (\n",
        "#    dataframe['TEMP_F'].apply(convert_f_to_c))\n",
        "# The dataframe would need to be reset to boulder_climate_df, but since I already made the column in the dataframe, I don't want to actually run this, but I believe it would work"
      ]
    },
    {
      "cell_type": "markdown",
      "id": "6804e45f-6a25-462b-8c67-74387091278d",
      "metadata": {},
      "source": [
        "# STEP -1: Wrap up\n",
        "\n",
        "Don’t forget to store your variables so you can use them in other\n",
        "notebooks! Replace `var1` and `var2` with the variable you want to save,\n",
        "separated by spaces."
      ]
    },
    {
      "cell_type": "code",
      "execution_count": 4,
      "id": "73e42c7f",
      "metadata": {},
      "outputs": [
        {
          "name": "stdout",
          "output_type": "stream",
          "text": [
            "Stored 'boulder_climate_df_units' (DataFrame)\n"
          ]
        }
      ],
      "source": [
        "%store boulder_climate_df_units"
      ]
    },
    {
      "cell_type": "markdown",
      "id": "884b5215-cdc9-4cb1-927d-70f3b38bbc20",
      "metadata": {},
      "source": [
        "Finally, be sure to `Restart` and `Run all` to make sure your notebook\n",
        "works all the way through!"
      ]
    }
  ],
  "metadata": {
    "kernelspec": {
      "display_name": "base",
      "language": "python",
      "name": "python3"
    },
    "language_info": {
      "codemirror_mode": {
        "name": "ipython",
        "version": 3
      },
      "file_extension": ".py",
      "mimetype": "text/x-python",
      "name": "python",
      "nbconvert_exporter": "python",
      "pygments_lexer": "ipython3",
      "version": "3.11.6"
    }
  },
  "nbformat": 4,
  "nbformat_minor": 5
}
