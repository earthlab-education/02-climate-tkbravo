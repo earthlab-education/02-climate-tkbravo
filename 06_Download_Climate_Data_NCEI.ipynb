{
  "cells": [
    {
      "cell_type": "markdown",
      "id": "f953ad73-a8e9-458c-9a71-8c25e8023470",
      "metadata": {},
      "source": [
        "# Get Climate Data Online\n",
        "\n",
        "Climate change is impacting the way people live around the world\n",
        "\n",
        "## There are more Earth Observation data online than any one person could ever look at\n",
        "\n",
        "[NASA’s Earth Observing System Data and Information System (EOSDIS)\n",
        "alone manages over 9PB of\n",
        "data](https://www.earthdata.nasa.gov/learn/articles/getting-petabytes-people-how-eosdis-facilitates-earth-observing-data-discovery-and-use).\n",
        "1 PB is roughly 100 times the entire Library of Congress (a good\n",
        "approximation of all the books available in the US). It’s all available\n",
        "to **you** once you learn how to download what you want.\n",
        "\n",
        "Here we’re using the NOAA National Centers for Environmental Information\n",
        "(NCEI) [Access Data\n",
        "Service](https://www.ncei.noaa.gov/support/access-data-service-api-user-documentation)\n",
        "application progamming interface (API) to request data from their web\n",
        "servers. We will be using data collected as part of the Global\n",
        "Historical Climatology Network daily (GHCNd) from their [Climate Data\n",
        "Online library](https://www.ncdc.noaa.gov/cdo-web/datasets) program at\n",
        "NOAA.\n",
        "\n",
        "For this example we’re requesting [daily summary data in Boulder, CO\n",
        "(station ID\n",
        "USC00050848)](https://www.ncdc.noaa.gov/cdo-web/datasets/GHCND/stations/GHCND:USC00050848/detail).\n",
        "\n",
        "<link rel=\"stylesheet\" type=\"text/css\" href=\"./assets/styles.css\"><div class=\"callout callout-style-default callout-titled callout-response\"><div class=\"callout-header\"><div class=\"callout-icon-container\"><i class=\"callout-icon\"></i></div><div class=\"callout-title-container flex-fill\">Research and cite your data</div></div><div class=\"callout-body-container callout-body\"><ol type=\"1\">\n",
        "<li>Research the <a\n",
        "href=\"https://www.ncei.noaa.gov/metadata/geoportal/rest/metadata/item/gov.noaa.ncdc:C00861/html\"><strong>Global\n",
        "Historical Climatology Network - Daily</strong></a> data source.</li>\n",
        "<li>In the cell below, write a 2-3 sentence description of the data\n",
        "source.</li>\n",
        "<li>Include a citation of the data (<strong>HINT:</strong> See the ‘Data\n",
        "Citation’ tab on the GHCNd overview page).</li>\n",
        "</ol>\n",
        "<p>Your description should include:</p>\n",
        "<ul>\n",
        "<li>who takes the data</li>\n",
        "<li>where the data were taken</li>\n",
        "<li>what the maximum temperature units are</li>\n",
        "<li>how the data are collected</li>\n",
        "</ul></div></div>"
      ]
    },
    {
      "cell_type": "markdown",
      "id": "b07943d0-6b33-4fc0-9f91-6cc8b6198a2c",
      "metadata": {},
      "source": [
        "> The *Global Historical Climatology Network – Daily (GHCNd)* is run by NOAA’s [National Centers for Environmental Information (NCEI)](https://www.ncei.noaa.gov/). It pulls together weather data from stations all over the world, including daily max and min temperatures (in tenths of °C), precipitation, and snowfall. The observations come from national weather services and volunteers, and NOAA checks the quality before sharing it with the public.  \n",
        "\n",
        "> **Citation:**  \n",
        "> Menne, Matthew J., Imke Durre, Bryant Korzeniewski, Shelley McNeill, Kristy Thomas, Xungang Yin, Steven Anthony, Ron Ray, Russell S. Vose, Byron E.Gleason, and Tamara G. Houston (2012): Global Historical Climatology Network - Daily (GHCN-Daily), Version 3. [Boulder, CO daily station record (USC00050848)]. NOAA National Climatic Data Center. doi:10.7289/V5D21VHZ [22 Sept 2025].\n",
        "\n",
        "> Menne, M.J., I. Durre, R.S. Vose, B.E. Gleason, and T.G. Houston, 2012: *An overview of the Global Historical Climatology Network-Daily Database.* *Journal of Atmospheric and Oceanic Technology*, 29, 897-910. https://doi.org/10.1175/JTECH-D-11-00103.1"
      ]
    },
    {
      "cell_type": "markdown",
      "id": "80186d1c-03b8-44cc-9f98-96b54f6f1e5e",
      "metadata": {},
      "source": [
        "## Access NCEI GHCNd Data from the internet using its API 🖥️ 📡 🖥️\n",
        "\n",
        "The cell below contains the URL for the data you will use in this part\n",
        "of the notebook. We created this URL by generating what is called an\n",
        "**API endpoint** using the NCEI [API\n",
        "documentation](https://www.ncei.noaa.gov/support/access-data-service-api-user-documentation).\n",
        "\n",
        "> **What’s an API?**\n",
        ">\n",
        "> An **application programming interface** (API) is a way for two or\n",
        "> more computer programs or components to communicate with each other.\n",
        "> It is a type of software interface, offering a service to other pieces\n",
        "> of software ([Wikipedia](https://en.wikipedia.org/wiki/API)).\n",
        "\n",
        "First things first – you will need to import the `earthpy` library to\n",
        "help with data management and the `pandas` library to work with tabular\n",
        "data:"
      ]
    },
    {
      "cell_type": "code",
      "execution_count": 1,
      "id": "c72d1b48",
      "metadata": {},
      "outputs": [],
      "source": [
        "# Import libraries\n",
        "import earthpy # Manage local data\n",
        "import pandas as pd # Work with vector format data"
      ]
    },
    {
      "cell_type": "markdown",
      "id": "a891ddd2-5fc1-4e87-a774-e09f563fd1ae",
      "metadata": {},
      "source": [
        "The cell below contains the URL you will use to download climate data.\n",
        "There are two things to notice about the URL code:\n",
        "\n",
        "1.  It is surrounded by quotes – that means Python will interpret it as\n",
        "    a `string`, or text, type, which makes sense for a URL.\n",
        "2.  The URL is too long to display as one line on most screens. We’ve\n",
        "    put parentheses around it so that we can easily split it into\n",
        "    multiple lines by writing two strings – one on each line.\n",
        "\n",
        "<link rel=\"stylesheet\" type=\"text/css\" href=\"./assets/styles.css\"><div class=\"callout callout-style-default callout-titled callout-task\"><div class=\"callout-header\"><div class=\"callout-icon-container\"><i class=\"callout-icon\"></i></div><div class=\"callout-title-container flex-fill\">Try It: Format your URL for readability</div></div><div class=\"callout-body-container callout-body\"><ol type=\"1\">\n",
        "<li>Pick an expressive variable name for the URL.</li>\n",
        "<li>Reformat the URL so that it adheres to the <a\n",
        "href=\"https://peps.python.org/pep-0008/#maximum-line-length\">79-character\n",
        "PEP-8 line limit</a>, and so that it is <strong>easy to read</strong>.\n",
        "If you are using GitHub Codespaces, you should see two vertical lines in\n",
        "each cell – don’t let your code go past the second line.</li>\n",
        "<li>Replace ‘DATATYPE’, ‘STATION’, and the start and end dates\n",
        "‘YYYY-MM-DD’, with the values for the data you want to download.</li>\n",
        "</ol></div></div>"
      ]
    },
    {
      "cell_type": "code",
      "execution_count": 2,
      "id": "304635fa",
      "metadata": {
        "template": "student"
      },
      "outputs": [
        {
          "data": {
            "text/plain": [
              "'https://www.ncei.noaa.gov/access/services/data/v1?dataset=daily-summaries&dataTypes=TOBS&stations=USC00458773&startDate=1856-01-01&endDate=2025-06-30&units=standard'"
            ]
          },
          "execution_count": 2,
          "metadata": {},
          "output_type": "execute_result"
        }
      ],
      "source": [
        "# Format URL for data recovery (Vancouver, WA - https://www.ncdc.noaa.gov/cdo-web/datasets/GHCND/locations/CITY:US530022/detail)\n",
        "van_url = ('https://www.ncei.noaa.gov/access/services/da'\n",
        "'ta/v1?dataset=daily-summaries&dataTypes=TOBS&stations=USC00458773&startDate=1856-01-01&endDate=2025-06-30&units=standard')\n",
        "van_url"
      ]
    },
    {
      "cell_type": "markdown",
      "id": "70f7c8e5-e983-40b6-8d7d-f18c86a8f9bd",
      "metadata": {},
      "source": [
        "## Get NCEI data using the API\n",
        "\n",
        "<link rel=\"stylesheet\" type=\"text/css\" href=\"./assets/styles.css\"><div class=\"callout callout-style-default callout-titled callout-task\"><div class=\"callout-header\"><div class=\"callout-icon-container\"><i class=\"callout-icon\"></i></div><div class=\"callout-title-container flex-fill\">Try It</div></div><div class=\"callout-body-container callout-body\"><ol type=\"1\">\n",
        "<li>Replace <code>url</code> with the name of your URL</li>\n",
        "<li>Run the code to download and check your data</li>\n",
        "</ol></div></div>"
      ]
    },
    {
      "cell_type": "code",
      "execution_count": 3,
      "id": "2056b44a",
      "metadata": {
        "template": "student"
      },
      "outputs": [
        {
          "data": {
            "text/html": [
              "<div>\n",
              "<style scoped>\n",
              "    .dataframe tbody tr th:only-of-type {\n",
              "        vertical-align: middle;\n",
              "    }\n",
              "\n",
              "    .dataframe tbody tr th {\n",
              "        vertical-align: top;\n",
              "    }\n",
              "\n",
              "    .dataframe thead th {\n",
              "        text-align: right;\n",
              "    }\n",
              "</style>\n",
              "<table border=\"1\" class=\"dataframe\">\n",
              "  <thead>\n",
              "    <tr style=\"text-align: right;\">\n",
              "      <th></th>\n",
              "      <th>STATION</th>\n",
              "      <th>TOBS</th>\n",
              "    </tr>\n",
              "    <tr>\n",
              "      <th>DATE</th>\n",
              "      <th></th>\n",
              "      <th></th>\n",
              "    </tr>\n",
              "  </thead>\n",
              "  <tbody>\n",
              "    <tr>\n",
              "      <th>1856-01-01</th>\n",
              "      <td>USC00458773</td>\n",
              "      <td>NaN</td>\n",
              "    </tr>\n",
              "    <tr>\n",
              "      <th>1856-01-02</th>\n",
              "      <td>USC00458773</td>\n",
              "      <td>NaN</td>\n",
              "    </tr>\n",
              "    <tr>\n",
              "      <th>1856-01-03</th>\n",
              "      <td>USC00458773</td>\n",
              "      <td>NaN</td>\n",
              "    </tr>\n",
              "    <tr>\n",
              "      <th>1856-01-04</th>\n",
              "      <td>USC00458773</td>\n",
              "      <td>NaN</td>\n",
              "    </tr>\n",
              "    <tr>\n",
              "      <th>1856-01-05</th>\n",
              "      <td>USC00458773</td>\n",
              "      <td>NaN</td>\n",
              "    </tr>\n",
              "  </tbody>\n",
              "</table>\n",
              "</div>"
            ],
            "text/plain": [
              "                STATION  TOBS\n",
              "DATE                         \n",
              "1856-01-01  USC00458773   NaN\n",
              "1856-01-02  USC00458773   NaN\n",
              "1856-01-03  USC00458773   NaN\n",
              "1856-01-04  USC00458773   NaN\n",
              "1856-01-05  USC00458773   NaN"
            ]
          },
          "execution_count": 3,
          "metadata": {},
          "output_type": "execute_result"
        }
      ],
      "source": [
        "# Download the climate data\n",
        "climate_df = pd.read_csv(\n",
        "    van_url,\n",
        "    index_col='DATE',\n",
        "    parse_dates=True,\n",
        "    na_values=['NaN']\n",
        ")\n",
        "\n",
        "# Check that the download worked\n",
        "climate_df.head()"
      ]
    },
    {
      "cell_type": "markdown",
      "id": "9549c015-61b0-44ff-aecc-5bb874800c1d",
      "metadata": {},
      "source": [
        "## Save climate data to your computer\n",
        "\n",
        "<link rel=\"stylesheet\" type=\"text/css\" href=\"./assets/styles.css\"><div class=\"callout callout-style-default callout-titled callout-task\"><div class=\"callout-header\"><div class=\"callout-icon-container\"><i class=\"callout-icon\"></i></div><div class=\"callout-title-container flex-fill\">Try It</div></div><div class=\"callout-body-container callout-body\"><ol type=\"1\">\n",
        "<li>Replace <code>filename</code> with the name of the file you want to\n",
        "save your data in. Your data file should end up in the same folder<br />\n",
        "</li>\n",
        "<li>(optional) You can also construct a <strong>reproducible file\n",
        "path</strong> using the <code>pathlib</code> or <code>os</code>\n",
        "libraries and use that, or use <code>earthpy</code> to make a data\n",
        "directory based on your system settings.</li>\n",
        "<li>Run the code to save your data</li>\n",
        "</ol></div></div>\n",
        "\n",
        "> **Warning**\n",
        ">\n",
        "> For this activity it’s fine, but as a general rule you don’t want to\n",
        "> upload data files to a GitHub repository! You can get into a situation\n",
        "> where it’s impossible to upload to GitHub."
      ]
    },
    {
      "cell_type": "code",
      "execution_count": 4,
      "id": "90920cb9",
      "metadata": {
        "template": "student"
      },
      "outputs": [],
      "source": [
        "# Save the climate data\n",
        "climate_df.to_csv('vancouver_temp_data.csv')"
      ]
    },
    {
      "cell_type": "markdown",
      "id": "3d33d65a-5107-450e-b7cd-98ef5643f07e",
      "metadata": {},
      "source": [
        "# STEP -1: Wrap up\n",
        "\n",
        "Don’t forget to store your variables so you can use them in other\n",
        "notebooks! Replace `var1` and `var2` with the variable you want to save,\n",
        "separated by spaces."
      ]
    },
    {
      "cell_type": "code",
      "execution_count": 5,
      "id": "62f538c1",
      "metadata": {},
      "outputs": [
        {
          "name": "stdout",
          "output_type": "stream",
          "text": [
            "Stored 'climate_df' (DataFrame)\n"
          ]
        }
      ],
      "source": [
        "%store climate_df"
      ]
    },
    {
      "cell_type": "markdown",
      "id": "8650476f-3f75-4964-abde-94c8ded41d9a",
      "metadata": {},
      "source": [
        "Finally, be sure to `Restart` and `Run all` to make sure your notebook\n",
        "works all the way through!"
      ]
    }
  ],
  "metadata": {
    "kernelspec": {
      "display_name": "base",
      "language": "python",
      "name": "python3"
    },
    "language_info": {
      "codemirror_mode": {
        "name": "ipython",
        "version": 3
      },
      "file_extension": ".py",
      "mimetype": "text/x-python",
      "name": "python",
      "nbconvert_exporter": "python",
      "pygments_lexer": "ipython3",
      "version": "3.11.6"
    }
  },
  "nbformat": 4,
  "nbformat_minor": 5
}
